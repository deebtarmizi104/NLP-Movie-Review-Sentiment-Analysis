{
 "cells": [
  {
   "cell_type": "code",
   "execution_count": 126,
   "metadata": {},
   "outputs": [],
   "source": [
    "import os\n",
    "import numpy as np\n",
    "import pandas as pd\n",
    "import nltk\n",
    "from nltk.corpus import stopwords\n",
    "from nltk.stem.porter import PorterStemmer\n",
    "from nltk.stem import WordNetLemmatizer\n",
    "from nltk.tokenize import word_tokenize,sent_tokenize\n",
    "from nltk.tokenize.toktok import ToktokTokenizer\n",
    "from bs4 import BeautifulSoup\n",
    "import re,string,unicodedata\n",
    "from textblob import TextBlob\n",
    "from sklearn.feature_extraction.text import TfidfVectorizer\n",
    "from sklearn.metrics import classification_report,confusion_matrix,accuracy_score\n",
    "from sklearn.model_selection import train_test_split\n",
    "from sklearn.metrics import f1_score\n",
    "import warnings\n",
    "warnings.filterwarnings(\"ignore\", category=FutureWarning)"
   ]
  },
  {
   "cell_type": "code",
   "execution_count": 127,
   "metadata": {},
   "outputs": [
    {
     "data": {
      "text/html": [
       "<div>\n",
       "<style scoped>\n",
       "    .dataframe tbody tr th:only-of-type {\n",
       "        vertical-align: middle;\n",
       "    }\n",
       "\n",
       "    .dataframe tbody tr th {\n",
       "        vertical-align: top;\n",
       "    }\n",
       "\n",
       "    .dataframe thead th {\n",
       "        text-align: right;\n",
       "    }\n",
       "</style>\n",
       "<table border=\"1\" class=\"dataframe\">\n",
       "  <thead>\n",
       "    <tr style=\"text-align: right;\">\n",
       "      <th></th>\n",
       "      <th>ID</th>\n",
       "      <th>Review</th>\n",
       "    </tr>\n",
       "  </thead>\n",
       "  <tbody>\n",
       "    <tr>\n",
       "      <td>0</td>\n",
       "      <td>1</td>\n",
       "      <td>One of the other reviewers has mentioned that ...</td>\n",
       "    </tr>\n",
       "    <tr>\n",
       "      <td>1</td>\n",
       "      <td>2</td>\n",
       "      <td>A wonderful little production. &lt;br /&gt;&lt;br /&gt;The...</td>\n",
       "    </tr>\n",
       "    <tr>\n",
       "      <td>2</td>\n",
       "      <td>3</td>\n",
       "      <td>I thought this was a wonderful way to spend ti...</td>\n",
       "    </tr>\n",
       "    <tr>\n",
       "      <td>3</td>\n",
       "      <td>4</td>\n",
       "      <td>Basically there's a family where a little boy ...</td>\n",
       "    </tr>\n",
       "    <tr>\n",
       "      <td>4</td>\n",
       "      <td>5</td>\n",
       "      <td>Petter Mattei's \"Love in the Time of Money\" is...</td>\n",
       "    </tr>\n",
       "  </tbody>\n",
       "</table>\n",
       "</div>"
      ],
      "text/plain": [
       "   ID                                             Review\n",
       "0   1  One of the other reviewers has mentioned that ...\n",
       "1   2  A wonderful little production. <br /><br />The...\n",
       "2   3  I thought this was a wonderful way to spend ti...\n",
       "3   4  Basically there's a family where a little boy ...\n",
       "4   5  Petter Mattei's \"Love in the Time of Money\" is..."
      ]
     },
     "execution_count": 127,
     "metadata": {},
     "output_type": "execute_result"
    }
   ],
   "source": [
    "#Load the Dataset to the DataFrame\n",
    "df = pd.read_csv('C:/Users/User5/Desktop/NLP/Project/IMDB Dataset2.csv')\n",
    "\n",
    "#Display the head of the DataFrame\n",
    "df.head()"
   ]
  },
  {
   "cell_type": "code",
   "execution_count": 128,
   "metadata": {},
   "outputs": [],
   "source": [
    "#Removing the html strips\n",
    "def strip_html(text):\n",
    "    soup = BeautifulSoup(text, \"html.parser\")\n",
    "    return soup.get_text()"
   ]
  },
  {
   "cell_type": "code",
   "execution_count": 129,
   "metadata": {},
   "outputs": [],
   "source": [
    "#clean Text\n",
    "def cleanText(text):\n",
    "    text = text.lower()\n",
    "    text = text.translate(string.punctuation)\n",
    "    text = text.replace('+', ' ')\n",
    "    text = text.replace(',', '')\n",
    "    emoji_pattern = re.compile(\"[\"\n",
    "                               u\"\\U0001F600-\\U0001F64F\"  # emoticons\n",
    "                               u\"\\U0001F300-\\U0001F5FF\"  # symbols & pictographs\n",
    "                               u\"\\U0001F680-\\U0001F6FF\"  # transport & map symbols\n",
    "                               u\"\\U0001F1E0-\\U0001F1FF\"  # flags (iOS)\n",
    "                               u\"\\U00002500-\\U00002BEF\"  # chinese char\n",
    "                               u\"\\U00002702-\\U000027B0\"\n",
    "                               u\"\\U00002702-\\U000027B0\"\n",
    "                               u\"\\U000024C2-\\U0001F251\"\n",
    "                               u\"\\U0001f926-\\U0001f937\"\n",
    "                               u\"\\U00010000-\\U0010ffff\"\n",
    "                               u\"\\u2640-\\u2642\"\n",
    "                               u\"\\u2600-\\u2B55\"\n",
    "                               u\"\\u200d\"\n",
    "                               u\"\\u23cf\"\n",
    "                               u\"\\u23e9\"\n",
    "                               u\"\\u231a\"\n",
    "                               u\"\\ufe0f\"  # dingbats\n",
    "                               u\"\\u3030\"\n",
    "                               \"]+\", flags=re.UNICODE)\n",
    "    text = re.sub(r'https?:\\/\\/\\S+','',text) #Remove the hyperlink\n",
    "    text = emoji_pattern.sub(r'',text) #Remove emoji\n",
    "    text = strip_html(text) #Removing html strips\n",
    "    text = re.sub(r'[^a-zA-z0-9\\s]','',text) #remove special character\n",
    "    \n",
    "    return text"
   ]
  },
  {
   "cell_type": "code",
   "execution_count": 130,
   "metadata": {},
   "outputs": [],
   "source": [
    "df['Review']=df['Review'].apply(cleanText)"
   ]
  },
  {
   "cell_type": "code",
   "execution_count": 131,
   "metadata": {},
   "outputs": [
    {
     "data": {
      "text/html": [
       "<div>\n",
       "<style scoped>\n",
       "    .dataframe tbody tr th:only-of-type {\n",
       "        vertical-align: middle;\n",
       "    }\n",
       "\n",
       "    .dataframe tbody tr th {\n",
       "        vertical-align: top;\n",
       "    }\n",
       "\n",
       "    .dataframe thead th {\n",
       "        text-align: right;\n",
       "    }\n",
       "</style>\n",
       "<table border=\"1\" class=\"dataframe\">\n",
       "  <thead>\n",
       "    <tr style=\"text-align: right;\">\n",
       "      <th></th>\n",
       "      <th>ID</th>\n",
       "      <th>Review</th>\n",
       "    </tr>\n",
       "  </thead>\n",
       "  <tbody>\n",
       "    <tr>\n",
       "      <td>0</td>\n",
       "      <td>1</td>\n",
       "      <td>one of the other reviewers has mentioned that ...</td>\n",
       "    </tr>\n",
       "    <tr>\n",
       "      <td>1</td>\n",
       "      <td>2</td>\n",
       "      <td>a wonderful little production the filming tech...</td>\n",
       "    </tr>\n",
       "    <tr>\n",
       "      <td>2</td>\n",
       "      <td>3</td>\n",
       "      <td>i thought this was a wonderful way to spend ti...</td>\n",
       "    </tr>\n",
       "    <tr>\n",
       "      <td>3</td>\n",
       "      <td>4</td>\n",
       "      <td>basically theres a family where a little boy j...</td>\n",
       "    </tr>\n",
       "    <tr>\n",
       "      <td>4</td>\n",
       "      <td>5</td>\n",
       "      <td>petter matteis love in the time of money is a ...</td>\n",
       "    </tr>\n",
       "  </tbody>\n",
       "</table>\n",
       "</div>"
      ],
      "text/plain": [
       "   ID                                             Review\n",
       "0   1  one of the other reviewers has mentioned that ...\n",
       "1   2  a wonderful little production the filming tech...\n",
       "2   3  i thought this was a wonderful way to spend ti...\n",
       "3   4  basically theres a family where a little boy j...\n",
       "4   5  petter matteis love in the time of money is a ..."
      ]
     },
     "execution_count": 131,
     "metadata": {},
     "output_type": "execute_result"
    }
   ],
   "source": [
    "df.head()"
   ]
  },
  {
   "cell_type": "code",
   "execution_count": 132,
   "metadata": {},
   "outputs": [],
   "source": [
    "#Subjectivity range [0,1]\n",
    "#The higher subjectivity means that the text contains personal \n",
    "#opinion rather than factual information\n",
    "def getSubjectivity(text):\n",
    "    return TextBlob(text).sentiment.subjectivity\n",
    "\n",
    "#Polarity range [-1,1]\n",
    "#-1 = negative sentiment\n",
    "#1 = positive sentiment\n",
    "def getPolarity(text):\n",
    "    \n",
    "    return TextBlob(text).sentiment.polarity   \n",
    "\n",
    "def getSentiment(score):\n",
    "    \n",
    "    if score == 0:\n",
    "        return 'Neutral'\n",
    "    elif score < 0:\n",
    "        return 'Negative'\n",
    "    else:\n",
    "        return 'Positive'\n",
    "\n",
    "df['Subjectivity Score'] = df['Review'].apply(getSubjectivity)\n",
    "df['Polarity Score'] = df['Review'].apply(getPolarity)\n",
    "df['Sentiment'] = df['Polarity Score'].apply(getSentiment)"
   ]
  },
  {
   "cell_type": "code",
   "execution_count": 133,
   "metadata": {},
   "outputs": [
    {
     "data": {
      "text/html": [
       "<div>\n",
       "<style scoped>\n",
       "    .dataframe tbody tr th:only-of-type {\n",
       "        vertical-align: middle;\n",
       "    }\n",
       "\n",
       "    .dataframe tbody tr th {\n",
       "        vertical-align: top;\n",
       "    }\n",
       "\n",
       "    .dataframe thead th {\n",
       "        text-align: right;\n",
       "    }\n",
       "</style>\n",
       "<table border=\"1\" class=\"dataframe\">\n",
       "  <thead>\n",
       "    <tr style=\"text-align: right;\">\n",
       "      <th></th>\n",
       "      <th>ID</th>\n",
       "      <th>Review</th>\n",
       "      <th>Subjectivity Score</th>\n",
       "      <th>Polarity Score</th>\n",
       "      <th>Sentiment</th>\n",
       "    </tr>\n",
       "  </thead>\n",
       "  <tbody>\n",
       "    <tr>\n",
       "      <td>0</td>\n",
       "      <td>1</td>\n",
       "      <td>one of the other reviewers has mentioned that ...</td>\n",
       "      <td>0.490369</td>\n",
       "      <td>0.023433</td>\n",
       "      <td>Positive</td>\n",
       "    </tr>\n",
       "    <tr>\n",
       "      <td>1</td>\n",
       "      <td>2</td>\n",
       "      <td>a wonderful little production the filming tech...</td>\n",
       "      <td>0.559343</td>\n",
       "      <td>0.111490</td>\n",
       "      <td>Positive</td>\n",
       "    </tr>\n",
       "    <tr>\n",
       "      <td>2</td>\n",
       "      <td>3</td>\n",
       "      <td>i thought this was a wonderful way to spend ti...</td>\n",
       "      <td>0.640769</td>\n",
       "      <td>0.346324</td>\n",
       "      <td>Positive</td>\n",
       "    </tr>\n",
       "    <tr>\n",
       "      <td>3</td>\n",
       "      <td>4</td>\n",
       "      <td>basically theres a family where a little boy j...</td>\n",
       "      <td>0.454167</td>\n",
       "      <td>-0.060937</td>\n",
       "      <td>Negative</td>\n",
       "    </tr>\n",
       "    <tr>\n",
       "      <td>4</td>\n",
       "      <td>5</td>\n",
       "      <td>petter matteis love in the time of money is a ...</td>\n",
       "      <td>0.452916</td>\n",
       "      <td>0.217952</td>\n",
       "      <td>Positive</td>\n",
       "    </tr>\n",
       "  </tbody>\n",
       "</table>\n",
       "</div>"
      ],
      "text/plain": [
       "   ID                                             Review  Subjectivity Score  \\\n",
       "0   1  one of the other reviewers has mentioned that ...            0.490369   \n",
       "1   2  a wonderful little production the filming tech...            0.559343   \n",
       "2   3  i thought this was a wonderful way to spend ti...            0.640769   \n",
       "3   4  basically theres a family where a little boy j...            0.454167   \n",
       "4   5  petter matteis love in the time of money is a ...            0.452916   \n",
       "\n",
       "   Polarity Score Sentiment  \n",
       "0        0.023433  Positive  \n",
       "1        0.111490  Positive  \n",
       "2        0.346324  Positive  \n",
       "3       -0.060937  Negative  \n",
       "4        0.217952  Positive  "
      ]
     },
     "execution_count": 133,
     "metadata": {},
     "output_type": "execute_result"
    }
   ],
   "source": [
    "df.head()"
   ]
  },
  {
   "cell_type": "code",
   "execution_count": 134,
   "metadata": {},
   "outputs": [],
   "source": [
    "from sklearn.naive_bayes import MultinomialNB  # Multinomial Naive Bayes Classifier\n",
    "from sklearn.linear_model import LogisticRegression, SGDClassifier  # Logistic Regression Classifier\n",
    "from sklearn.svm import SVC # SVM Classification\n",
    "\n",
    "# Import the Label Encoder\n",
    "from sklearn.preprocessing import LabelEncoder"
   ]
  },
  {
   "cell_type": "code",
   "execution_count": 135,
   "metadata": {},
   "outputs": [],
   "source": [
    "# Initialize the Label Encoder.\n",
    "encoder = LabelEncoder()\n",
    "\n",
    "# Encode the categories\n",
    "df['Sentiment_enc'] = encoder.fit_transform(df['Sentiment'])"
   ]
  },
  {
   "cell_type": "code",
   "execution_count": 136,
   "metadata": {},
   "outputs": [
    {
     "data": {
      "text/html": [
       "<div>\n",
       "<style scoped>\n",
       "    .dataframe tbody tr th:only-of-type {\n",
       "        vertical-align: middle;\n",
       "    }\n",
       "\n",
       "    .dataframe tbody tr th {\n",
       "        vertical-align: top;\n",
       "    }\n",
       "\n",
       "    .dataframe thead th {\n",
       "        text-align: right;\n",
       "    }\n",
       "</style>\n",
       "<table border=\"1\" class=\"dataframe\">\n",
       "  <thead>\n",
       "    <tr style=\"text-align: right;\">\n",
       "      <th></th>\n",
       "      <th>ID</th>\n",
       "      <th>Review</th>\n",
       "      <th>Subjectivity Score</th>\n",
       "      <th>Polarity Score</th>\n",
       "      <th>Sentiment</th>\n",
       "      <th>Sentiment_enc</th>\n",
       "    </tr>\n",
       "  </thead>\n",
       "  <tbody>\n",
       "    <tr>\n",
       "      <td>0</td>\n",
       "      <td>1</td>\n",
       "      <td>one of the other reviewers has mentioned that ...</td>\n",
       "      <td>0.490369</td>\n",
       "      <td>0.023433</td>\n",
       "      <td>Positive</td>\n",
       "      <td>2</td>\n",
       "    </tr>\n",
       "    <tr>\n",
       "      <td>1</td>\n",
       "      <td>2</td>\n",
       "      <td>a wonderful little production the filming tech...</td>\n",
       "      <td>0.559343</td>\n",
       "      <td>0.111490</td>\n",
       "      <td>Positive</td>\n",
       "      <td>2</td>\n",
       "    </tr>\n",
       "    <tr>\n",
       "      <td>2</td>\n",
       "      <td>3</td>\n",
       "      <td>i thought this was a wonderful way to spend ti...</td>\n",
       "      <td>0.640769</td>\n",
       "      <td>0.346324</td>\n",
       "      <td>Positive</td>\n",
       "      <td>2</td>\n",
       "    </tr>\n",
       "    <tr>\n",
       "      <td>3</td>\n",
       "      <td>4</td>\n",
       "      <td>basically theres a family where a little boy j...</td>\n",
       "      <td>0.454167</td>\n",
       "      <td>-0.060937</td>\n",
       "      <td>Negative</td>\n",
       "      <td>0</td>\n",
       "    </tr>\n",
       "    <tr>\n",
       "      <td>4</td>\n",
       "      <td>5</td>\n",
       "      <td>petter matteis love in the time of money is a ...</td>\n",
       "      <td>0.452916</td>\n",
       "      <td>0.217952</td>\n",
       "      <td>Positive</td>\n",
       "      <td>2</td>\n",
       "    </tr>\n",
       "  </tbody>\n",
       "</table>\n",
       "</div>"
      ],
      "text/plain": [
       "   ID                                             Review  Subjectivity Score  \\\n",
       "0   1  one of the other reviewers has mentioned that ...            0.490369   \n",
       "1   2  a wonderful little production the filming tech...            0.559343   \n",
       "2   3  i thought this was a wonderful way to spend ti...            0.640769   \n",
       "3   4  basically theres a family where a little boy j...            0.454167   \n",
       "4   5  petter matteis love in the time of money is a ...            0.452916   \n",
       "\n",
       "   Polarity Score Sentiment  Sentiment_enc  \n",
       "0        0.023433  Positive              2  \n",
       "1        0.111490  Positive              2  \n",
       "2        0.346324  Positive              2  \n",
       "3       -0.060937  Negative              0  \n",
       "4        0.217952  Positive              2  "
      ]
     },
     "execution_count": 136,
     "metadata": {},
     "output_type": "execute_result"
    }
   ],
   "source": [
    "df.head()"
   ]
  },
  {
   "cell_type": "code",
   "execution_count": 137,
   "metadata": {},
   "outputs": [],
   "source": [
    "#split dataset in features and target variable\n",
    "X = df['Review']\n",
    "y = df['Sentiment_enc']\n",
    "\n",
    "# split data into training and testing sets\n",
    "from sklearn.model_selection import train_test_split\n",
    "X_train, X_test, y_train, y_test = train_test_split(X, y, test_size = 0.30, random_state = 34)\n",
    "\n",
    "# check the shape of X_train and X_test\n",
    "X_train.shape, X_test.shape\n",
    "\n",
    "X_train.head()\n",
    "\n",
    "# Create the tf-idf vectorizer\n",
    "vectorizer = TfidfVectorizer(strip_accents='ascii')\n",
    "\n",
    "# First fit the vectorizer with our training set\n",
    "tfidf_train = vectorizer.fit_transform(X_train)\n",
    "\n",
    "# Now we can fit our test data with the same vectorizer\n",
    "tfidf_test = vectorizer.transform(X_test)"
   ]
  },
  {
   "cell_type": "code",
   "execution_count": 138,
   "metadata": {},
   "outputs": [
    {
     "name": "stdout",
     "output_type": "stream",
     "text": [
      "Naive Bayes Accuracy: 0.7561333333333333\n",
      "Naive Bayes Accuracy percentage: 75.61 %\n"
     ]
    }
   ],
   "source": [
    "# Initialize the Multinomial Naive Bayes classifier\n",
    "nb = MultinomialNB()\n",
    "\n",
    "# Fit the model\n",
    "nb.fit(tfidf_train, y_train)\n",
    "\n",
    "# Print the accuracy score\n",
    "print(\"Naive Bayes Accuracy:\", nb.score(tfidf_test, y_test))\n",
    "print(\"Naive Bayes Accuracy percentage:\", round((nb.score(tfidf_test, y_test)*100),2), \"%\")\n"
   ]
  },
  {
   "cell_type": "code",
   "execution_count": 144,
   "metadata": {},
   "outputs": [
    {
     "name": "stdout",
     "output_type": "stream",
     "text": [
      "\n",
      "Confusion Matrix\n",
      "\n",
      "[[    0     0  3647]\n",
      " [    0     0    11]\n",
      " [    0     0 11342]]\n",
      "\n",
      "\n",
      "Classification Report\n",
      "\n",
      "              precision    recall  f1-score   support\n",
      "\n",
      "           0       0.00      0.00      0.00      3647\n",
      "           1       0.00      0.00      0.00        11\n",
      "           2       0.76      1.00      0.86     11342\n",
      "\n",
      "    accuracy                           0.76     15000\n",
      "   macro avg       0.25      0.33      0.29     15000\n",
      "weighted avg       0.57      0.76      0.65     15000\n",
      "\n"
     ]
    }
   ],
   "source": [
    "# Predict the labels\n",
    "y_pred = nb.predict(tfidf_test)\n",
    "\n",
    "set(y_test) - set(y_pred)\n",
    "\n",
    "# Print the Confusion Matrix\n",
    "cm = confusion_matrix(y_test, y_pred)\n",
    "print(\"\\nConfusion Matrix\\n\")\n",
    "print(cm)\n",
    "\n",
    "# Print the Classification Report\n",
    "cr = classification_report(y_test, y_pred)\n",
    "print(\"\\n\\nClassification Report\\n\")\n",
    "print(cr)"
   ]
  },
  {
   "cell_type": "code",
   "execution_count": 140,
   "metadata": {},
   "outputs": [
    {
     "name": "stdout",
     "output_type": "stream",
     "text": [
      "Logistic Regression Accuracy: 0.8957333333333334\n",
      "Logistic Regression Accuracy percentage: 89.57 %\n"
     ]
    }
   ],
   "source": [
    "# Initialize the Logistic Regression\n",
    "lr = LogisticRegression(solver='lbfgs', max_iter=1000)\n",
    "\n",
    "# Fit the model\n",
    "lr.fit(tfidf_train, y_train)\n",
    "\n",
    "# Print the accuracy score\n",
    "print(\"Logistic Regression Accuracy:\", lr.score(tfidf_test, y_test))\n",
    "print(\"Logistic Regression Accuracy percentage:\", round((lr.score(tfidf_test, y_test)*100),2), \"%\")"
   ]
  },
  {
   "cell_type": "code",
   "execution_count": 145,
   "metadata": {},
   "outputs": [
    {
     "name": "stdout",
     "output_type": "stream",
     "text": [
      "\n",
      "Confusion Matrix\n",
      "\n",
      "[[ 2308     0  1339]\n",
      " [    4     0     7]\n",
      " [  214     0 11128]]\n",
      "\n",
      "\n",
      "Classification Report\n",
      "\n",
      "              precision    recall  f1-score   support\n",
      "\n",
      "           0       0.91      0.63      0.75      3647\n",
      "           1       0.00      0.00      0.00        11\n",
      "           2       0.89      0.98      0.93     11342\n",
      "\n",
      "    accuracy                           0.90     15000\n",
      "   macro avg       0.60      0.54      0.56     15000\n",
      "weighted avg       0.90      0.90      0.89     15000\n",
      "\n"
     ]
    }
   ],
   "source": [
    "# Predict the labels\n",
    "y_pred = lr.predict(tfidf_test)\n",
    "\n",
    "# Print the Confusion Matrix\n",
    "cm = confusion_matrix(y_test, y_pred)\n",
    "print(\"\\nConfusion Matrix\\n\")\n",
    "print(cm)\n",
    "\n",
    "# Print the Classification Report\n",
    "cr = classification_report(y_test, y_pred)\n",
    "print(\"\\n\\nClassification Report\\n\")\n",
    "print(cr)"
   ]
  },
  {
   "cell_type": "code",
   "execution_count": 142,
   "metadata": {},
   "outputs": [
    {
     "name": "stdout",
     "output_type": "stream",
     "text": [
      "SVM Accuracy: 0.8874\n",
      "SVM Accuracy percentage: 88.74 %\n"
     ]
    }
   ],
   "source": [
    "# Initialize the SVM\n",
    "svm = SGDClassifier()\n",
    "\n",
    "# Fit the model\n",
    "svm.fit(tfidf_train, y_train)\n",
    "\n",
    "# Print the accuracy score\n",
    "print(\"SVM Accuracy:\", svm.score(tfidf_test, y_test))\n",
    "print(\"SVM Accuracy percentage:\", round((svm.score(tfidf_test, y_test)*100),2), \"%\")"
   ]
  },
  {
   "cell_type": "code",
   "execution_count": 143,
   "metadata": {},
   "outputs": [
    {
     "name": "stdout",
     "output_type": "stream",
     "text": [
      "\n",
      "Confusion Matrix\n",
      "\n",
      "[[ 2156     0  1491]\n",
      " [    4     0     7]\n",
      " [  187     0 11155]]\n",
      "\n",
      "\n",
      "Classification Report\n",
      "\n",
      "              precision    recall  f1-score   support\n",
      "\n",
      "           0       0.92      0.59      0.72      3647\n",
      "           1       0.00      0.00      0.00        11\n",
      "           2       0.88      0.98      0.93     11342\n",
      "\n",
      "    accuracy                           0.89     15000\n",
      "   macro avg       0.60      0.52      0.55     15000\n",
      "weighted avg       0.89      0.89      0.88     15000\n",
      "\n"
     ]
    }
   ],
   "source": [
    "# Predict the labels\n",
    "y_pred = svm.predict(tfidf_test)\n",
    "\n",
    "# Print the Confusion Matrix\n",
    "cm = confusion_matrix(y_test, y_pred)\n",
    "print(\"\\nConfusion Matrix\\n\")\n",
    "print(cm)\n",
    "\n",
    "# Print the Classification Report\n",
    "cr = classification_report(y_test, y_pred)\n",
    "print(\"\\n\\nClassification Report\\n\")\n",
    "print(cr)"
   ]
  },
  {
   "cell_type": "code",
   "execution_count": null,
   "metadata": {},
   "outputs": [],
   "source": []
  }
 ],
 "metadata": {
  "kernelspec": {
   "display_name": "Python 3",
   "language": "python",
   "name": "python3"
  },
  "language_info": {
   "codemirror_mode": {
    "name": "ipython",
    "version": 3
   },
   "file_extension": ".py",
   "mimetype": "text/x-python",
   "name": "python",
   "nbconvert_exporter": "python",
   "pygments_lexer": "ipython3",
   "version": "3.7.4"
  }
 },
 "nbformat": 4,
 "nbformat_minor": 2
}
